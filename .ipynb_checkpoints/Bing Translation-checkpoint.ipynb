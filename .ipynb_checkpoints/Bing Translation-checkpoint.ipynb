{
 "cells": [
  {
   "cell_type": "code",
   "execution_count": 4,
   "id": "0627d7c9",
   "metadata": {},
   "outputs": [],
   "source": [
    "# import os\n",
    "# from selenium import webdriver\n",
    "# from selenium.webdriver.support.ui import WebDriverWait\n",
    "# from selenium.webdriver.support import expected_conditions as EC\n",
    "# from selenium.webdriver.common.by import By\n",
    "# from selenium.common.exceptions import TimeoutException\n",
    "# os.environ['PATH'] += r\"C:\\Program Files (x86)\\chromedriver.exe\"\n",
    "# import pandas as pd\n",
    "# import numpy as np\n",
    "# import requests\n",
    "# from bs4 import BeautifulSoup\n",
    "# from time import sleep\n",
    "# from random import randint\n",
    "# from selenium.webdriver.support.ui import Select\n",
    "# driver = webdriver.Chrome()\n",
    "# driver.maximize_window()\n",
    "# driver.get('https://www.bing.com/translator')\n",
    "\n",
    "# select_element = Select(driver.find_element(By.CSS_SELECTOR,\"#tta_tgtsl\"))\n",
    "# select_element.select_by_value('te')\n",
    "\n",
    "# df = pd.read_excel('translationEnglish.xlsx')\n",
    "# mylist = df['short description'].tolist()\n",
    "\n",
    "# for i in mylist:\n",
    "#     inputBox = driver.find_element(By.ID,'tta_input_ta')\n",
    "#     inputBox.clear()\n",
    "#     inputBox.send_keys(i)\n",
    "#     sleep(3)\n",
    "#     if str(i) != 'nan':\n",
    "#         outPut =  driver.execute_script(\"return document.getElementById('tta_output_ta').value;\")\n",
    "#         print(outPut)\n",
    "#     else:\n",
    "#         print(i)"
   ]
  },
  {
   "cell_type": "code",
   "execution_count": 13,
   "id": "02c19bb3",
   "metadata": {},
   "outputs": [
    {
     "name": "stderr",
     "output_type": "stream",
     "text": [
      "C:\\Users\\kanna\\AppData\\Local\\Temp\\ipykernel_27496\\1831476212.py:4: DeprecationWarning: executable_path has been deprecated, please pass in a Service object\n",
      "  driver = webdriver.Chrome(PATH)\n"
     ]
    }
   ],
   "source": [
    "import os\n",
    "from selenium import webdriver\n",
    "PATH = \"C:\\SeleniumDrivers\\chromedriver.exe\"\n",
    "driver = webdriver.Chrome(PATH)\n",
    "\n",
    "driver.get(\"https://www.bing.com/translator\")\n",
    "select_element = Select(driver.find_element(By.CSS_SELECTOR,\"#tta_tgtsl\"))\n",
    "select_element.select_by_value('te')\n",
    "\n",
    "df = pd.read_excel('translationEnglish.xlsx')\n",
    "mylist = df['short description'].tolist()"
   ]
  },
  {
   "cell_type": "code",
   "execution_count": 7,
   "id": "01fce3c5",
   "metadata": {},
   "outputs": [],
   "source": [
    "# from selenium import webdriver\n",
    "# from webdriver_manager.chrome import Chrome DriverManager\n",
    "# import time\n",
    "# driver= webdriver. Chrome (Chrome DriverManager ().install())\n",
    "# lines=[]\n",
    "# with open(\"patient.txt\", \"r\" encoding=\"utf-8\") as fp:\n",
    "#     lines=fp.readlines ()\n",
    "#     search_url=\"https://translate.google.co.in/?sl=en&tl=hi&text={q}&op=translate\"\n",
    "#     for line in lines:\n",
    "#     line=line.strip()\n",
    "#     driver.get(search_url.format(q=line))\n",
    "#     time.sleep(2)\n",
    "#     for elements in driver.find_elements_by_xpath('//span[@jsname=\"W297wb\"]'):\n",
    "#         print (elements.text)\n",
    "#     break"
   ]
  },
  {
   "cell_type": "code",
   "execution_count": null,
   "id": "f8230edf",
   "metadata": {},
   "outputs": [],
   "source": []
  },
  {
   "cell_type": "code",
   "execution_count": null,
   "id": "a1751336",
   "metadata": {},
   "outputs": [],
   "source": []
  }
 ],
 "metadata": {
  "kernelspec": {
   "display_name": "Python 3 (ipykernel)",
   "language": "python",
   "name": "python3"
  },
  "language_info": {
   "codemirror_mode": {
    "name": "ipython",
    "version": 3
   },
   "file_extension": ".py",
   "mimetype": "text/x-python",
   "name": "python",
   "nbconvert_exporter": "python",
   "pygments_lexer": "ipython3",
   "version": "3.10.2"
  }
 },
 "nbformat": 4,
 "nbformat_minor": 5
}
