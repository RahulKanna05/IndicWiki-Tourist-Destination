{
 "cells": [
  {
   "cell_type": "code",
   "execution_count": 53,
   "id": "e31dcd95",
   "metadata": {},
   "outputs": [],
   "source": [
    "from bs4 import BeautifulSoup\n",
    "import requests\n",
    "import pandas\n",
    "from openpyxl import load_workbook"
   ]
  },
  {
   "cell_type": "code",
   "execution_count": 70,
   "id": "84af9026",
   "metadata": {},
   "outputs": [],
   "source": [
    "# html_text = requests.get('https://en.wikipedia.org/wiki/Birmingham_Museum_of_Art').text\n",
    "# soup = BeautifulSoup(html_text, 'lxml')\n",
    "# #print(soup.prettify())"
   ]
  },
  {
   "cell_type": "code",
   "execution_count": 73,
   "id": "350ee148",
   "metadata": {},
   "outputs": [],
   "source": [
    "# p_tags = soup.find_all('p')\n",
    "# desc = ''\n",
    "# for txt in p_tags[1].find_all(text=True):\n",
    "#     desc += txt\n",
    "# print(desc)"
   ]
  },
  {
   "cell_type": "code",
   "execution_count": 63,
   "id": "45d357fe",
   "metadata": {},
   "outputs": [],
   "source": [
    "wb = load_workbook(filename = 'links.xlsx')"
   ]
  },
  {
   "cell_type": "code",
   "execution_count": 64,
   "id": "2543e297",
   "metadata": {},
   "outputs": [],
   "source": [
    "sheet_ranges = wb['Sheet1']"
   ]
  },
  {
   "cell_type": "code",
   "execution_count": 65,
   "id": "374d025d",
   "metadata": {},
   "outputs": [],
   "source": [
    "urls = []\n",
    "for row in sheet_ranges.iter_rows(): \n",
    "    for cell in row:\n",
    "        urls.append(cell.value)"
   ]
  },
  {
   "cell_type": "code",
   "execution_count": 68,
   "id": "4559622c",
   "metadata": {},
   "outputs": [],
   "source": [
    "def getDescription(url):\n",
    "    if url!='none':\n",
    "        html_text = requests.get(url).text\n",
    "        soup = BeautifulSoup(html_text, 'lxml')\n",
    "        p_tags = soup.find_all('p')\n",
    "        print(p_tags)\n",
    "    else:\n",
    "        print('none2')"
   ]
  },
  {
   "cell_type": "code",
   "execution_count": 74,
   "id": "6e9c6a59",
   "metadata": {},
   "outputs": [
    {
     "name": "stdout",
     "output_type": "stream",
     "text": [
      "The U.S. Space & Rocket Center in Huntsville, Alabama is a museum operated by the government of Alabama, showcasing rockets, achievements, and artifacts of the U.S. space program.  Sometimes billed as \"Earth's largest space museum\", astronaut Owen Garriott described the place as, \"a great way to learn about space in a town that has embraced the space program from the very beginning.\"[2][3]\n",
      "\n",
      "0 None\n",
      "The Birmingham Museum of Art is owned by the City of Birmingham and encompasses 3.9 acres (16,000 m2) in the heart of the city’s cultural district. Erected in 1959, the present building was designed by architects Warren, Knight and Davis, and a major renovation and expansion by Edward Larrabee Barnes of New York was completed in 1993. The facility encompasses 180,000 square feet (17,000 m2), including an outdoor sculpture garden.\n",
      "\n",
      "1 None\n",
      "The island is home to a single community which is not within the corporate limits of any municipality. It is both private and gated.[1] Although not within any municipality the island is subject to governance by the Baldwin County Commission. Emergency services are provided by nearby communities. The island is accessed via a private, guarded, bridge from State Route 182.[2][3]\n",
      "\n",
      "2 None\n",
      "The museum features a wide range of locomotives, cars and other railroad equipment that dates from the 19th century to the 1950s and operates regularly scheduled excursions with museum equipment over the museum's track. It also features two depots that are approximately 100 years old.\n",
      "\n",
      "3 None\n",
      "The park's facilities, including cabins and a casino, were built in the 1930s by members of the Civilian Conservation Corps working under the auspices of the Federal government.[5] The park opened in 1939 after ownership of the property was transferred to the state. After weathering multiple hurricanes, the park was devastated by Hurricane Ivan in 2004.[3] Major projects undertaken in the wake of the storm saw the construction of a 1,540-foot (470 m) Gulf of Mexico fishing pier[2] that provides 2,448 feet of fishing space,[6] a 5,000-square-foot swimming pool and splash pad, an interactive nature center, a beach pavilion, and renovation of the campground.\n",
      "\n",
      "4 None\n",
      "Human habitation in the Denali Region extends to more than 11,000 years before the present, with documented sites just outside park boundaries dated to more than 8,000 years before present. However, relatively few archaeological sites have been documented within the park boundaries, owing to the region's high elevation, with harsh winter conditions and scarce resources compared to lower elevations in the area. The oldest site within park boundaries is the Teklanika River site, dated to about 7130 BC. More than 84 archaeological sites have been documented within the park. The sites are typically characterized as hunting camps rather than settlements, and provide little cultural context. The presence of Athabaskan peoples in the region is dated to 1,500 - 1,000 years before present on linguistic and archaeological evidence, while researchers have proposed that Athabaskans may have inhabited the area for thousands of years before then. The principal groups in the park area in the last 500 years include the Koyukon, Tanana and Dena'ina people.[4]\n",
      "\n",
      "5 None\n",
      "The longest source for Hubbard Glacier originates 122 kilometres (76 mi) from its snout and is located at about 61°00′N 140°09′W﻿ / ﻿61.000°N 140.150°W﻿ / 61.000; -140.150, approximately 8 kilometres (5 mi) west of Mount Walsh with an elevation around 11,000 feet (3,400 m). A shorter tributary glacier begins at the easternmost summit on the Mount Logan ridge at about 18,300 feet (5,600 m) at about 60°35′0″N 140°22′40″W﻿ / ﻿60.58333°N 140.37778°W﻿ / 60.58333; -140.37778.\n",
      "\n",
      "6 None\n",
      "After a $139 million renovation,[when?] it re-opened after a two-year and three-month closure. The museum closed temporarily on February 28, 2014, for the creation of a new facility that joined the State Libraries, Archives and Museum (SLAM) together in a comprehensive research facility. The old structure, designed by Linn A. Forrest,[2] was demolished in August 2014, and a new facility opened on the same footprint (but larger), on June 6, 2016. The new building was named after the first curator for the Alaska State Museum, the Russian Orthodox priest, Father Andrew P. Kashevaroff. This building is also known as the APK.\n",
      "\n",
      "7 None\n",
      "The Lighthouse Board approved plans for a lighthouse on Eldred Rock in 1905 and hoped that the design would be completed before November and the coming of harsh winter weather. However, due to weather, the lighthouse was not finished until June 1, 1906. A fourth-order Fresnel lens was placed in the lantern room, near the top of the fifty-six foot lighthouse, at a focal plane of ninety-one feet. This unique lens consisted of two bull's-eye panels — one about four feet in diameter and the opposing one a smaller, 14-inch panel. A sheet of red glass was placed between the light source and the larger prism, causing the revolving lens to produce alternating red and white flashes. The light was automated by the United States Coast Guard in 1973 and downgraded to a minor light. \n",
      "\n",
      "8 None\n",
      "\n",
      "Chena Hot Springs was founded over 100 years ago by two gold mining brothers, Robert and Thomas Swan. In 1905, Robert Swan was suffering from rheumatism and needed a place to calm his pain and be comfortable. The two brothers set out to find the hot springs. It took them a little over a month to reach the hot springs after searching for it in Interior Alaska’s harsh landscape. In 1911, twelve small cabins were built to accommodate visitors. The twelve cabins developed, establishing it as a resort in the interior of Alaska. The United States Department of Agriculture sent chemists to analyze the water. [6]\n",
      "9 None\n",
      "Grand Canyon National Park, located in northwestern Arizona, is the 15th site in the United States to have been named as a national park. The park's central feature is the Grand Canyon, a gorge of the Colorado River, which is often considered one of the Wonders of the World. The park, which covers 1,217,262 acres (1,901.972 sq mi; 4,926.08 km2) of unincorporated area in Coconino and Mohave counties, received more than six million recreational visitors in 2017, which is the second highest count of all American national parks after Great Smoky Mountains National Park.[5] The Grand Canyon was designated a World Heritage Site by UNESCO in 1979. The park celebrated its 100th anniversary on February 26, 2019.[6]\n",
      "\n",
      "10 None\n",
      "The Navajo name for Upper Antelope Canyon is Tsé bighánílíní, which means 'the place where water runs through the (Slot Canyon) rocks'.  Lower Antelope Canyon is Hazdistazí (called \"Hasdestwazi\" by the Navajo Parks and Recreation Department), or 'spiral rock arches'.  Both are in the LeChee Chapter of the Navajo Nation.[4] They are accessible by Navajo guided tour only.[5]\n",
      "\n",
      "11 None\n",
      "Havasu Falls (Havasupai: Havasuw Hagjahgeevma)[1] is a waterfall of Havasu Creek, located in the Grand Canyon, Arizona, United States. It is within Havasupai tribal lands.\n",
      "\n",
      "12 None\n",
      "Taliesin West was architect Frank Lloyd Wright's winter home and studio in the desert from 1937 until his death in 1959 at the age of 91. Today it is the headquarters of the Frank Lloyd Wright Foundation.\n",
      "\n",
      "13 None\n",
      "The Phoenix Zoo opened in 1962 and is the largest privately owned, non-profit zoo in the United States.[5] Located in Phoenix, Arizona, the zoo was founded by Robert Maytag,[6] a member of the Maytag family, and operates on 125 acres (51 ha) of land in the Papago Park area of Phoenix.[1] It has been designated as a Phoenix Point of Pride.[5]\n",
      "\n",
      "14 None\n",
      "Incorporated January 10, 1851, the city was known in the early 20th century as the home to Major League Baseball spring training, illegal gambling, speakeasies during the Prohibition era, and gangsters such as Al Capone, horse racing at Oaklawn Park, the Army and Navy Hospital, and 42nd President Bill Clinton. The area was established as a national park on March 4, 1921.[3] Until the redesignation of Jefferson National Expansion Memorial as Gateway Arch National Park in 2018, Hot Springs was the smallest national park by area in the United States.[3] Since Hot Springs National Park is the oldest park maintained by the National Park Service, it was the first to receive its own US quarter in April 2010 as part of the America the Beautiful Quarters coin series.\n",
      "\n",
      "15 None\n"
     ]
    },
    {
     "ename": "IndexError",
     "evalue": "list index out of range",
     "output_type": "error",
     "traceback": [
      "\u001b[1;31m---------------------------------------------------------------------------\u001b[0m",
      "\u001b[1;31mIndexError\u001b[0m                                Traceback (most recent call last)",
      "Input \u001b[1;32mIn [74]\u001b[0m, in \u001b[0;36m<cell line: 1>\u001b[1;34m()\u001b[0m\n\u001b[0;32m      1\u001b[0m \u001b[38;5;28;01mfor\u001b[39;00m index,url \u001b[38;5;129;01min\u001b[39;00m \u001b[38;5;28menumerate\u001b[39m(urls):\n\u001b[1;32m----> 2\u001b[0m     \u001b[38;5;28mprint\u001b[39m(index,\u001b[43mgetDescription\u001b[49m\u001b[43m(\u001b[49m\u001b[43murl\u001b[49m\u001b[43m)\u001b[49m)\n",
      "Input \u001b[1;32mIn [68]\u001b[0m, in \u001b[0;36mgetDescription\u001b[1;34m(url)\u001b[0m\n\u001b[0;32m      6\u001b[0m desc \u001b[38;5;241m=\u001b[39m \u001b[38;5;124m'\u001b[39m\u001b[38;5;124m'\u001b[39m\n\u001b[0;32m      7\u001b[0m \u001b[38;5;28;01mif\u001b[39;00m p_tags:\n\u001b[1;32m----> 8\u001b[0m     \u001b[38;5;28;01mfor\u001b[39;00m txt \u001b[38;5;129;01min\u001b[39;00m \u001b[43mp_tags\u001b[49m\u001b[43m[\u001b[49m\u001b[38;5;241;43m1\u001b[39;49m\u001b[43m]\u001b[49m\u001b[38;5;241m.\u001b[39mfind_all(text\u001b[38;5;241m=\u001b[39m\u001b[38;5;28;01mTrue\u001b[39;00m):\n\u001b[0;32m      9\u001b[0m         desc \u001b[38;5;241m+\u001b[39m\u001b[38;5;241m=\u001b[39m txt\n\u001b[0;32m     10\u001b[0m     \u001b[38;5;28mprint\u001b[39m(desc)\n",
      "\u001b[1;31mIndexError\u001b[0m: list index out of range"
     ]
    }
   ],
   "source": [
    "for index,url in enumerate(urls):\n",
    "    print(index,getDescription(url))"
   ]
  },
  {
   "cell_type": "code",
   "execution_count": null,
   "id": "6d583d30",
   "metadata": {},
   "outputs": [],
   "source": []
  },
  {
   "cell_type": "code",
   "execution_count": null,
   "id": "22a312b4",
   "metadata": {},
   "outputs": [],
   "source": []
  }
 ],
 "metadata": {
  "kernelspec": {
   "display_name": "Python 3 (ipykernel)",
   "language": "python",
   "name": "python3"
  },
  "language_info": {
   "codemirror_mode": {
    "name": "ipython",
    "version": 3
   },
   "file_extension": ".py",
   "mimetype": "text/x-python",
   "name": "python",
   "nbconvert_exporter": "python",
   "pygments_lexer": "ipython3",
   "version": "3.10.2"
  }
 },
 "nbformat": 4,
 "nbformat_minor": 5
}
