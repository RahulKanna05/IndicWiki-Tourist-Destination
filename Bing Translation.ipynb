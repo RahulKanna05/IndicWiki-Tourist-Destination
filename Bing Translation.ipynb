{
 "cells": [
  {
   "cell_type": "code",
   "execution_count": 40,
   "id": "551ca437",
   "metadata": {},
   "outputs": [],
   "source": [
    "# import os\n",
    "# from selenium import webdriver\n",
    "# from selenium.webdriver.support.ui import WebDriverWait\n",
    "# from selenium.webdriver.support import expected_conditions as EC\n",
    "# from selenium.webdriver.common.by import By\n",
    "# from selenium.common.exceptions import TimeoutException\n",
    "# os.environ['PATH'] += r\"C:\\Program Files (x86)\\chromedriver.exe\"\n",
    "# import pandas as pd\n",
    "# import numpy as np\n",
    "# import requests\n",
    "# from bs4 import BeautifulSoup\n",
    "# from time import sleep\n",
    "# from random import randint\n",
    "# from selenium.webdriver.support.ui import Select\n",
    "# driver = webdriver.Chrome()\n",
    "# driver.maximize_window()\n",
    "# driver.get('https://www.bing.com/translator')\n",
    "\n",
    "# select_element = Select(driver.find_element(By.CSS_SELECTOR,\"#tta_tgtsl\"))\n",
    "# select_element.select_by_value('te')\n",
    "\n",
    "# df = pd.read_excel('translationEnglish.xlsx')\n",
    "# mylist = df['short description'].tolist()\n",
    "\n",
    "# for i in mylist:\n",
    "#     inputBox = driver.find_element(By.ID,'tta_input_ta')\n",
    "#     inputBox.clear()\n",
    "#     inputBox.send_keys(i)\n",
    "#     sleep(3)\n",
    "#     if str(i) != 'nan':\n",
    "#         outPut =  driver.execute_script(\"return document.getElementById('tta_output_ta').value;\")\n",
    "#         print(outPut)\n",
    "#     else:\n",
    "#         print(i)"
   ]
  },
  {
   "cell_type": "code",
   "execution_count": 10,
   "id": "16321d09",
   "metadata": {},
   "outputs": [],
   "source": [
    "# import os\n",
    "# from selenium import webdriver\n",
    "# import pandas as pd\n",
    "# from selenium.webdriver.chrome.service import Service\n",
    "\n",
    "# s = Service(\"C:\\SeleniumDrivers\\chromedriver.exe\")\n",
    "# driver = webdriver.Chrome(service=s)\n",
    "# driver.get(\"https://www.bing.com/translator\")\n",
    "# select_element = Select(driver.find_element(By.CSS_SELECTOR,\"#tta_tgtsl\"))\n",
    "# select_element.select_by_value('te')\n",
    "\n",
    "# df = pd.read_excel(\"Desc.xlsx\",sheet_name='Sheet1', usecols=\"A\")\n",
    "# mylist = df.values.tolist()\n",
    "\n",
    "# for i in mylist:\n",
    "#     inputBox = driver.find_element(By.ID,'tta_input_ta')\n",
    "#     inputBox.clear()\n",
    "#     inputBox.send_keys(i)\n",
    "#     sleep(2)\n",
    "#     if str(i) != '#VALUE!':\n",
    "#         outPut =  driver.execute_script(\"return document.getElementById('tta_output_ta').value;\")\n",
    "#         print(outPut)\n",
    "#     else:\n",
    "#         print(i)"
   ]
  },
  {
   "cell_type": "code",
   "execution_count": 11,
   "id": "ef8b5263",
   "metadata": {},
   "outputs": [
    {
     "ename": "NameError",
     "evalue": "name 'Select' is not defined",
     "output_type": "error",
     "traceback": [
      "\u001b[1;31m---------------------------------------------------------------------------\u001b[0m",
      "\u001b[1;31mNameError\u001b[0m                                 Traceback (most recent call last)",
      "Input \u001b[1;32mIn [11]\u001b[0m, in \u001b[0;36m<cell line: 9>\u001b[1;34m()\u001b[0m\n\u001b[0;32m      7\u001b[0m driver \u001b[38;5;241m=\u001b[39m webdriver\u001b[38;5;241m.\u001b[39mChrome(service\u001b[38;5;241m=\u001b[39ms)\n\u001b[0;32m      8\u001b[0m driver\u001b[38;5;241m.\u001b[39mget(\u001b[38;5;124m\"\u001b[39m\u001b[38;5;124mhttps://www.bing.com/translator\u001b[39m\u001b[38;5;124m\"\u001b[39m)\n\u001b[1;32m----> 9\u001b[0m select_element \u001b[38;5;241m=\u001b[39m \u001b[43mSelect\u001b[49m(driver\u001b[38;5;241m.\u001b[39mfind_element(By\u001b[38;5;241m.\u001b[39mCSS_SELECTOR,\u001b[38;5;124m\"\u001b[39m\u001b[38;5;124m#tta_tgtsl\u001b[39m\u001b[38;5;124m\"\u001b[39m))\n\u001b[0;32m     10\u001b[0m select_element\u001b[38;5;241m.\u001b[39mselect_by_value(\u001b[38;5;124m'\u001b[39m\u001b[38;5;124mte\u001b[39m\u001b[38;5;124m'\u001b[39m)\n\u001b[0;32m     12\u001b[0m df \u001b[38;5;241m=\u001b[39m pd\u001b[38;5;241m.\u001b[39mread_excel(\u001b[38;5;124m\"\u001b[39m\u001b[38;5;124mDesc.xlsx\u001b[39m\u001b[38;5;124m\"\u001b[39m,sheet_name\u001b[38;5;241m=\u001b[39m\u001b[38;5;124m'\u001b[39m\u001b[38;5;124mSheet1\u001b[39m\u001b[38;5;124m'\u001b[39m, usecols\u001b[38;5;241m=\u001b[39m\u001b[38;5;124m\"\u001b[39m\u001b[38;5;124mA\u001b[39m\u001b[38;5;124m\"\u001b[39m)\n",
      "\u001b[1;31mNameError\u001b[0m: name 'Select' is not defined"
     ]
    }
   ],
   "source": [
    "import os\n",
    "from selenium import webdriver\n",
    "import pandas as pd\n",
    "from selenium.webdriver.chrome.service import Service\n",
    "\n",
    "s = Service(\"C:\\SeleniumDrivers\\chromedriver.exe\")\n",
    "driver = webdriver.Chrome(service=s)\n",
    "driver.get(\"https://www.bing.com/translator\")\n",
    "select_element = Select(driver.find_element(By.CSS_SELECTOR,\"#tta_tgtsl\"))\n",
    "select_element.select_by_value('te')\n",
    "\n",
    "df = pd.read_excel(\"Desc.xlsx\",sheet_name='Sheet1', usecols=\"A\")\n",
    "mylist = df.values.tolist()\n",
    "\n",
    "for i in mylist:\n",
    "    inputBox = driver.find_element(By.ID,'tta_input_ta')\n",
    "    inputBox.clear()\n",
    "    inputBox.send_keys(i)\n",
    "    sleep(2)\n",
    "    if str(i) != '#VALUE!':\n",
    "        outPut =  driver.execute_script(\"return document.getElementById('tta_output_ta').value;\")\n",
    "        print(outPut)\n",
    "    else:\n",
    "        print(i)"
   ]
  },
  {
   "cell_type": "code",
   "execution_count": 36,
   "id": "96b23e2b",
   "metadata": {},
   "outputs": [],
   "source": [
    "# for i in mylist:\n",
    "#     inputBox = driver.find_element(By.ID,'tta_input_ta')\n",
    "#     inputBox.clear()\n",
    "#     inputBox.send_keys(i)\n",
    "#     sleep(3)\n",
    "#     if str(i) != 'nan':\n",
    "#         outPut =  driver.execute_script(\"return document.getElementById('tta_output_ta').value;\")\n",
    "#         print(outPut)\n",
    "#     else:\n",
    "#         print(i)"
   ]
  },
  {
   "cell_type": "code",
   "execution_count": null,
   "id": "62ac9cb8",
   "metadata": {},
   "outputs": [],
   "source": []
  }
 ],
 "metadata": {
  "kernelspec": {
   "display_name": "Python 3 (ipykernel)",
   "language": "python",
   "name": "python3"
  },
  "language_info": {
   "codemirror_mode": {
    "name": "ipython",
    "version": 3
   },
   "file_extension": ".py",
   "mimetype": "text/x-python",
   "name": "python",
   "nbconvert_exporter": "python",
   "pygments_lexer": "ipython3",
   "version": "3.10.2"
  }
 },
 "nbformat": 4,
 "nbformat_minor": 5
}
